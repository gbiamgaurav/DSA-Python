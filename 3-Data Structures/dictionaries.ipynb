{
 "cells": [
  {
   "cell_type": "markdown",
   "id": "9fae24ba",
   "metadata": {},
   "source": [
    "### Dictionary in Python"
   ]
  },
  {
   "cell_type": "code",
   "execution_count": 3,
   "id": "8522189a",
   "metadata": {},
   "outputs": [
    {
     "name": "stdout",
     "output_type": "stream",
     "text": [
      "{'name': 'gaurav', 'age': 36}\n",
      "<class 'dict'>\n"
     ]
    }
   ],
   "source": [
    "mydict = {'name': 'gaurav', 'age': 36}\n",
    "print(mydict)\n",
    "print(type(mydict))"
   ]
  },
  {
   "cell_type": "code",
   "execution_count": 4,
   "id": "9f064bba",
   "metadata": {},
   "outputs": [
    {
     "data": {
      "text/plain": [
       "{'name': 'gaurav', 'age': 36}"
      ]
     },
     "execution_count": 4,
     "metadata": {},
     "output_type": "execute_result"
    }
   ],
   "source": [
    "student = {'name': 'gaurav', 'age': 36, 'name': 'gaurav'}\n",
    "student"
   ]
  },
  {
   "cell_type": "code",
   "execution_count": 5,
   "id": "5b4ff11d",
   "metadata": {},
   "outputs": [
    {
     "data": {
      "text/plain": [
       "('A', 36)"
      ]
     },
     "execution_count": 5,
     "metadata": {},
     "output_type": "execute_result"
    }
   ],
   "source": [
    "# accessing dict elements\n",
    "\n",
    "student = {'name': 'gaurav', 'age': 36, 'grade': 'A'}\n",
    "student['grade'], student['age']"
   ]
  },
  {
   "cell_type": "code",
   "execution_count": 6,
   "id": "ca11e3f1",
   "metadata": {},
   "outputs": [
    {
     "data": {
      "text/plain": [
       "('A', 'gaurav')"
      ]
     },
     "execution_count": 6,
     "metadata": {},
     "output_type": "execute_result"
    }
   ],
   "source": [
    "# accessing using get method\n",
    "\n",
    "student.get('grade'), student.get('name')"
   ]
  },
  {
   "cell_type": "code",
   "execution_count": 7,
   "id": "6902044a",
   "metadata": {},
   "outputs": [
    {
     "data": {
      "text/plain": [
       "'bhattacharya'"
      ]
     },
     "execution_count": 7,
     "metadata": {},
     "output_type": "execute_result"
    }
   ],
   "source": [
    "student.get('last_name', 'bhattacharya')"
   ]
  },
  {
   "cell_type": "code",
   "execution_count": 9,
   "metadata": {},
   "outputs": [
    {
     "data": {
      "text/plain": [
       "{'name': 'gaurav', 'age': 36, 'grade': 'A'}"
      ]
     },
     "execution_count": 9,
     "metadata": {},
     "output_type": "execute_result"
    }
   ],
   "source": [
    "student.get('last_name')\n",
    "student"
   ]
  },
  {
   "cell_type": "code",
   "execution_count": 10,
   "metadata": {},
   "outputs": [
    {
     "data": {
      "text/plain": [
       "{'name': 'gaurav', 'age': 33, 'grade': 'A', 'address': 'India'}"
      ]
     },
     "execution_count": 10,
     "metadata": {},
     "output_type": "execute_result"
    }
   ],
   "source": [
    "# modifying dict elements\n",
    "\n",
    "student = {'name': 'gaurav', 'age': 36, 'grade': 'A'}\n",
    "\n",
    "student['age'] = 33 \n",
    "student['address'] = 'India'\n",
    "\n",
    "student"
   ]
  },
  {
   "cell_type": "code",
   "execution_count": 11,
   "metadata": {},
   "outputs": [
    {
     "data": {
      "text/plain": [
       "{'age': 33, 'grade': 'A', 'address': 'India'}"
      ]
     },
     "execution_count": 11,
     "metadata": {},
     "output_type": "execute_result"
    }
   ],
   "source": [
    "del student['name']\n",
    "student"
   ]
  },
  {
   "cell_type": "markdown",
   "id": "e40c93b3",
   "metadata": {},
   "source": [
    "#### Dictionary Methods"
   ]
  },
  {
   "cell_type": "code",
   "execution_count": 12,
   "id": "397f690f",
   "metadata": {},
   "outputs": [
    {
     "name": "stdout",
     "output_type": "stream",
     "text": [
      "Keys of dict:  dict_keys(['age', 'grade', 'address'])\n",
      "Values of dict:  dict_values([33, 'A', 'India'])\n",
      "All Keys and values of dict:  dict_items([('age', 33), ('grade', 'A'), ('address', 'India')])\n"
     ]
    }
   ],
   "source": [
    "keys = student.keys()\n",
    "values = student.values()\n",
    "\n",
    "print(\"Keys of dict: \", keys)\n",
    "print(\"Values of dict: \", values)\n",
    "\n",
    "print(\"All Keys and values of dict: \", student.items())"
   ]
  },
  {
   "cell_type": "code",
   "execution_count": 13,
   "metadata": {},
   "outputs": [
    {
     "name": "stdout",
     "output_type": "stream",
     "text": [
      "{'age': 33, 'grade': 'A', 'address': 'India'}\n",
      "{'age': 33, 'grade': 'A', 'address': 'India'}\n"
     ]
    }
   ],
   "source": [
    "## Shallow Copy\n",
    "\n",
    "student_copy = student\n",
    "print(student)\n",
    "print(student_copy)"
   ]
  },
  {
   "cell_type": "code",
   "execution_count": 14,
   "id": "b5ef202b",
   "metadata": {},
   "outputs": [
    {
     "name": "stdout",
     "output_type": "stream",
     "text": [
      "{'age': 33, 'grade': 'A', 'address': 'India', 'name': 'grauvm12'}\n",
      "{'age': 33, 'grade': 'A', 'address': 'India', 'name': 'grauvm12'}\n"
     ]
    }
   ],
   "source": [
    "student['name'] = 'grauvm12'\n",
    "print(student)\n",
    "print(student_copy)"
   ]
  },
  {
   "cell_type": "code",
   "execution_count": 15,
   "id": "7ce01816",
   "metadata": {},
   "outputs": [
    {
     "name": "stdout",
     "output_type": "stream",
     "text": [
      "{'age': 33, 'grade': 'A', 'address': 'India', 'name': 'grauvm12'}\n",
      "{'age': 33, 'grade': 'A', 'address': 'India', 'name': 'grauvm12'}\n",
      "{'age': 33, 'grade': 'A', 'address': 'India', 'name': 'grauvm12'}\n"
     ]
    }
   ],
   "source": [
    "student_copy1 = student.copy()\n",
    "print(student)\n",
    "print(student_copy)\n",
    "print(student_copy1)"
   ]
  },
  {
   "cell_type": "code",
   "execution_count": 17,
   "id": "cc3b8aad",
   "metadata": {},
   "outputs": [
    {
     "name": "stdout",
     "output_type": "stream",
     "text": [
      "{'age': 33, 'grade': 'A', 'address': 'India', 'name': 'Gaurav Bhattacharya'}\n",
      "{'age': 33, 'grade': 'A', 'address': 'India', 'name': 'Gaurav Bhattacharya'}\n",
      "{'age': 33, 'grade': 'A', 'address': 'India', 'name': 'grauvm12'}\n"
     ]
    }
   ],
   "source": [
    "student['name'] = 'Gaurav Bhattacharya'\n",
    "print(student)\n",
    "print(student_copy)\n",
    "print(student_copy1)"
   ]
  },
  {
   "cell_type": "code",
   "execution_count": 20,
   "metadata": {},
   "outputs": [
    {
     "name": "stdout",
     "output_type": "stream",
     "text": [
      "age 33\n",
      "grade A\n",
      "address India\n",
      "name Gaurav Bhattacharya\n"
     ]
    }
   ],
   "source": [
    "# Iteration over dicts\n",
    "\n",
    "for i, j in student.items():\n",
    "    print(i, j)"
   ]
  },
  {
   "cell_type": "code",
   "execution_count": 21,
   "id": "050fdebd",
   "metadata": {},
   "outputs": [
    {
     "name": "stdout",
     "output_type": "stream",
     "text": [
      "0 ('age', 33)\n",
      "1 ('grade', 'A')\n",
      "2 ('address', 'India')\n",
      "3 ('name', 'Gaurav Bhattacharya')\n"
     ]
    }
   ],
   "source": [
    "for i, j in enumerate(student.items()):\n",
    "    print(i, j)"
   ]
  },
  {
   "cell_type": "code",
   "execution_count": 23,
   "id": "3a38ccfe",
   "metadata": {},
   "outputs": [
    {
     "data": {
      "text/plain": [
       "{'student1': {'name': 'krish', 'age': 32},\n",
       " 'student2': {'name': 'gaurav', 'age': 35}}"
      ]
     },
     "execution_count": 23,
     "metadata": {},
     "output_type": "execute_result"
    }
   ],
   "source": [
    "# Nested dict\n",
    "\n",
    "students = {\n",
    "    \"student1\": {'name': 'krish', 'age': 32},\n",
    "    \"student2\": {'name': 'gaurav', 'age': 35}\n",
    "}\n",
    "\n",
    "students"
   ]
  },
  {
   "cell_type": "code",
   "execution_count": 25,
   "id": "c0e5fb2e",
   "metadata": {},
   "outputs": [
    {
     "name": "stdout",
     "output_type": "stream",
     "text": [
      "gaurav\n",
      "35\n"
     ]
    }
   ],
   "source": [
    "print(students[\"student2\"][\"name\"])\n",
    "print(students[\"student2\"][\"age\"])"
   ]
  },
  {
   "cell_type": "code",
   "execution_count": 27,
   "id": "c2ef6214",
   "metadata": {},
   "outputs": [
    {
     "name": "stdout",
     "output_type": "stream",
     "text": [
      "student1 {'name': 'krish', 'age': 32}\n",
      "name krish\n",
      "age 32\n",
      "student2 {'name': 'gaurav', 'age': 35}\n",
      "name gaurav\n",
      "age 35\n"
     ]
    }
   ],
   "source": [
    "# Iteration over nested dict\n",
    "\n",
    "for i, j in students.items():\n",
    "    print(i, j)\n",
    "    for key, value in j.items():\n",
    "        print(key, value)"
   ]
  },
  {
   "cell_type": "markdown",
   "id": "5cc2315b",
   "metadata": {},
   "source": [
    "#### Dictionary Comprehension"
   ]
  },
  {
   "cell_type": "code",
   "execution_count": 28,
   "id": "34bed307",
   "metadata": {},
   "outputs": [
    {
     "name": "stdout",
     "output_type": "stream",
     "text": [
      "{0: 0, 1: 1, 2: 4, 3: 9, 4: 16}\n"
     ]
    }
   ],
   "source": [
    "sqs = {x:x**2 for x in range(5)}\n",
    "print(sqs)"
   ]
  },
  {
   "cell_type": "code",
   "execution_count": 31,
   "id": "e1da1643",
   "metadata": {},
   "outputs": [
    {
     "name": "stdout",
     "output_type": "stream",
     "text": [
      "{0: 0, 2: 4, 4: 16, 6: 36, 8: 64}\n"
     ]
    }
   ],
   "source": [
    "even_sqs = {x:x**2 for x in range(10) if x % 2 == 0}\n",
    "print(even_sqs)"
   ]
  },
  {
   "cell_type": "code",
   "execution_count": 33,
   "id": "b7a28e2d",
   "metadata": {},
   "outputs": [
    {
     "name": "stdout",
     "output_type": "stream",
     "text": [
      "{1: 1, 2: 2, 3: 4, 4: 3, 5: 2, 6: 1}\n"
     ]
    }
   ],
   "source": [
    "numbers = [1,2,3,4,2,3,4,5,6,3,4,5,3]\n",
    "\n",
    "freq = {}\n",
    "\n",
    "for num in numbers:\n",
    "    if num in freq:\n",
    "        freq[num] += 1\n",
    "    else:\n",
    "        freq[num] = 1\n",
    "\n",
    "print(freq)"
   ]
  },
  {
   "cell_type": "markdown",
   "id": "69331719",
   "metadata": {},
   "source": [
    "#### Merge 2 dictionaries"
   ]
  },
  {
   "cell_type": "code",
   "execution_count": null,
   "id": "e015bf4b",
   "metadata": {},
   "outputs": [],
   "source": [
    "dict1 = {'a': 1, 'b': 2}\n",
    "dict2 = {'b': 3, 'c': 4}"
   ]
  },
  {
   "cell_type": "code",
   "execution_count": 35,
   "id": "1d22e0c5",
   "metadata": {},
   "outputs": [
    {
     "data": {
      "text/plain": [
       "{'a': 1, 'b': 3, 'c': 4}"
      ]
     },
     "execution_count": 35,
     "metadata": {},
     "output_type": "execute_result"
    }
   ],
   "source": [
    "merged_dict = {**dict1, **dict2}\n",
    "merged_dict"
   ]
  },
  {
   "cell_type": "code",
   "execution_count": null,
   "id": "58f747d7",
   "metadata": {},
   "outputs": [],
   "source": []
  }
 ],
 "metadata": {
  "kernelspec": {
   "display_name": "dsa",
   "language": "python",
   "name": "python3"
  },
  "language_info": {
   "codemirror_mode": {
    "name": "ipython",
    "version": 3
   },
   "file_extension": ".py",
   "mimetype": "text/x-python",
   "name": "python",
   "nbconvert_exporter": "python",
   "pygments_lexer": "ipython3",
   "version": "3.12.9"
  }
 },
 "nbformat": 4,
 "nbformat_minor": 5
}
