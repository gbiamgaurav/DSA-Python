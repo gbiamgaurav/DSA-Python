{
 "cells": [
  {
   "cell_type": "markdown",
   "id": "60a3b102",
   "metadata": {},
   "source": [
    "### Tuples in Python"
   ]
  },
  {
   "cell_type": "code",
   "execution_count": 11,
   "id": "b2166d4e",
   "metadata": {},
   "outputs": [
    {
     "name": "stdout",
     "output_type": "stream",
     "text": [
      "(1, 2, 'str', [1, 2])\n",
      "<class 'tuple'>\n"
     ]
    }
   ],
   "source": [
    "mytuple = (1, 2, 'str', [1, 2])\n",
    "print(mytuple)\n",
    "print(type(mytuple))"
   ]
  },
  {
   "cell_type": "code",
   "execution_count": 12,
   "metadata": {},
   "outputs": [
    {
     "name": "stdout",
     "output_type": "stream",
     "text": [
      "<class 'list'>\n"
     ]
    }
   ],
   "source": [
    "lst = list()\n",
    "print(type(lst))"
   ]
  },
  {
   "cell_type": "code",
   "execution_count": 13,
   "metadata": {},
   "outputs": [
    {
     "name": "stdout",
     "output_type": "stream",
     "text": [
      "<class 'tuple'>\n"
     ]
    }
   ],
   "source": [
    "tpl = tuple()\n",
    "print(type(tpl))"
   ]
  },
  {
   "cell_type": "code",
   "execution_count": 14,
   "metadata": {},
   "outputs": [
    {
     "name": "stdout",
     "output_type": "stream",
     "text": [
      "(1, 2, 3, 4, 5)\n"
     ]
    }
   ],
   "source": [
    "numbers = tuple([1, 2, 3, 4, 5])\n",
    "print(numbers)"
   ]
  },
  {
   "cell_type": "code",
   "execution_count": 15,
   "id": "cecf161a",
   "metadata": {},
   "outputs": [
    {
     "data": {
      "text/plain": [
       "[1, 2, 3, 4, 5]"
      ]
     },
     "execution_count": 15,
     "metadata": {},
     "output_type": "execute_result"
    }
   ],
   "source": [
    "num_lst = list(numbers)\n",
    "num_lst"
   ]
  },
  {
   "cell_type": "code",
   "execution_count": 16,
   "id": "9b4c7236",
   "metadata": {},
   "outputs": [
    {
     "data": {
      "text/plain": [
       "1"
      ]
     },
     "execution_count": 16,
     "metadata": {},
     "output_type": "execute_result"
    }
   ],
   "source": [
    "# Accessing tuple elements\n",
    "\n",
    "numbers[0]"
   ]
  },
  {
   "cell_type": "code",
   "execution_count": 17,
   "id": "c67c6409",
   "metadata": {},
   "outputs": [
    {
     "data": {
      "text/plain": [
       "5"
      ]
     },
     "execution_count": 17,
     "metadata": {},
     "output_type": "execute_result"
    }
   ],
   "source": [
    "numbers[-1]"
   ]
  },
  {
   "cell_type": "code",
   "execution_count": 18,
   "id": "c445b311",
   "metadata": {},
   "outputs": [
    {
     "data": {
      "text/plain": [
       "(1, 2, 3, 4)"
      ]
     },
     "execution_count": 18,
     "metadata": {},
     "output_type": "execute_result"
    }
   ],
   "source": [
    "numbers[0:4]"
   ]
  },
  {
   "cell_type": "code",
   "execution_count": 19,
   "id": "e4b70b36",
   "metadata": {},
   "outputs": [
    {
     "data": {
      "text/plain": [
       "(5, 4, 3, 2, 1)"
      ]
     },
     "execution_count": 19,
     "metadata": {},
     "output_type": "execute_result"
    }
   ],
   "source": [
    "numbers[::-1]"
   ]
  },
  {
   "cell_type": "markdown",
   "id": "07dc0ef2",
   "metadata": {},
   "source": [
    "#### Tuples Operations"
   ]
  },
  {
   "cell_type": "code",
   "execution_count": 20,
   "id": "1bd1544b",
   "metadata": {},
   "outputs": [
    {
     "name": "stdout",
     "output_type": "stream",
     "text": [
      "(1, 2, 3, 4, 5, 1, 2, 'str', [1, 2])\n"
     ]
    }
   ],
   "source": [
    "con_tupl = numbers + mytuple \n",
    "print(con_tupl)"
   ]
  },
  {
   "cell_type": "code",
   "execution_count": 21,
   "id": "548e16ba",
   "metadata": {},
   "outputs": [
    {
     "data": {
      "text/plain": [
       "(1, 2, 'str', [1, 2], 1, 2, 'str', [1, 2], 1, 2, 'str', [1, 2])"
      ]
     },
     "execution_count": 21,
     "metadata": {},
     "output_type": "execute_result"
    }
   ],
   "source": [
    "mytuple * 3"
   ]
  },
  {
   "cell_type": "code",
   "execution_count": 22,
   "id": "16e9d950",
   "metadata": {},
   "outputs": [
    {
     "data": {
      "text/plain": [
       "(1, 2, 3, 4, 5, 1, 2, 3, 4, 5, 1, 2, 3, 4, 5)"
      ]
     },
     "execution_count": 22,
     "metadata": {},
     "output_type": "execute_result"
    }
   ],
   "source": [
    "numbers * 3"
   ]
  },
  {
   "cell_type": "code",
   "execution_count": 23,
   "id": "dd76926d",
   "metadata": {},
   "outputs": [
    {
     "data": {
      "text/plain": [
       "1"
      ]
     },
     "execution_count": 23,
     "metadata": {},
     "output_type": "execute_result"
    }
   ],
   "source": [
    "lst = [1, 2, 3, 4, 5]\n",
    "lst[0]"
   ]
  },
  {
   "cell_type": "code",
   "execution_count": 24,
   "id": "7d2dfcbf",
   "metadata": {},
   "outputs": [
    {
     "data": {
      "text/plain": [
       "[1, 'krish', 3, 4, 5]"
      ]
     },
     "execution_count": 24,
     "metadata": {},
     "output_type": "execute_result"
    }
   ],
   "source": [
    "lst[1] = 'krish'\n",
    "lst"
   ]
  },
  {
   "cell_type": "code",
   "execution_count": 25,
   "id": "956b8d53",
   "metadata": {},
   "outputs": [
    {
     "data": {
      "text/plain": [
       "2"
      ]
     },
     "execution_count": 25,
     "metadata": {},
     "output_type": "execute_result"
    }
   ],
   "source": [
    "mytuple = (1, 2, 3, 4, 5)\n",
    "mytuple[1]"
   ]
  },
  {
   "cell_type": "code",
   "execution_count": 26,
   "id": "9b399fe6",
   "metadata": {},
   "outputs": [
    {
     "ename": "TypeError",
     "evalue": "'tuple' object does not support item assignment",
     "output_type": "error",
     "traceback": [
      "\u001b[31m---------------------------------------------------------------------------\u001b[39m",
      "\u001b[31mTypeError\u001b[39m                                 Traceback (most recent call last)",
      "\u001b[36mCell\u001b[39m\u001b[36m \u001b[39m\u001b[32mIn[26]\u001b[39m\u001b[32m, line 1\u001b[39m\n\u001b[32m----> \u001b[39m\u001b[32m1\u001b[39m \u001b[43mmytuple\u001b[49m\u001b[43m[\u001b[49m\u001b[32;43m1\u001b[39;49m\u001b[43m]\u001b[49m = \u001b[33m'\u001b[39m\u001b[33mkrish\u001b[39m\u001b[33m'\u001b[39m\n\u001b[32m      2\u001b[39m mytuple\n",
      "\u001b[31mTypeError\u001b[39m: 'tuple' object does not support item assignment"
     ]
    }
   ],
   "source": [
    "mytuple[1] = 'krish'\n",
    "mytuple"
   ]
  },
  {
   "cell_type": "markdown",
   "id": "3f42a1a5",
   "metadata": {},
   "source": [
    "#### Tuple Methods"
   ]
  },
  {
   "cell_type": "code",
   "execution_count": 29,
   "id": "20bd4332",
   "metadata": {},
   "outputs": [
    {
     "name": "stdout",
     "output_type": "stream",
     "text": [
      "(1, 2, 3, 4, 5)\n"
     ]
    }
   ],
   "source": [
    "print(numbers)"
   ]
  },
  {
   "cell_type": "code",
   "execution_count": 30,
   "id": "e0d3db5b",
   "metadata": {},
   "outputs": [
    {
     "name": "stdout",
     "output_type": "stream",
     "text": [
      "1\n",
      "2\n"
     ]
    }
   ],
   "source": [
    "print(numbers.count(1))\n",
    "print(numbers.index(3))"
   ]
  },
  {
   "cell_type": "markdown",
   "id": "3f8f2090",
   "metadata": {},
   "source": [
    "#### Packing & Unpacking Tuples"
   ]
  },
  {
   "cell_type": "code",
   "execution_count": 32,
   "id": "8e5f64d4",
   "metadata": {},
   "outputs": [
    {
     "name": "stdout",
     "output_type": "stream",
     "text": [
      "(1, 'Hello', 3.14)\n"
     ]
    }
   ],
   "source": [
    "# Packing\n",
    "packed_tuple = 1, \"Hello\", 3.14\n",
    "print(packed_tuple)"
   ]
  },
  {
   "cell_type": "code",
   "execution_count": 33,
   "id": "1d56ca7e",
   "metadata": {},
   "outputs": [
    {
     "name": "stdout",
     "output_type": "stream",
     "text": [
      "1 Hello 3.14\n"
     ]
    }
   ],
   "source": [
    "# Unpacking\n",
    "a, b, c = packed_tuple\n",
    "print(a, b, c)"
   ]
  },
  {
   "cell_type": "code",
   "execution_count": 34,
   "id": "8365cdcd",
   "metadata": {},
   "outputs": [
    {
     "name": "stdout",
     "output_type": "stream",
     "text": [
      "1\n",
      "[2, 3, 4, 5]\n",
      "6\n"
     ]
    }
   ],
   "source": [
    "# unpacking with *\n",
    "numbers = (1, 2, 3, 4, 5, 6)\n",
    "first, *middle, last = numbers \n",
    "print(first)\n",
    "print(middle)\n",
    "print(last)"
   ]
  },
  {
   "cell_type": "code",
   "execution_count": 39,
   "id": "ae6da45e",
   "metadata": {},
   "outputs": [
    {
     "name": "stdout",
     "output_type": "stream",
     "text": [
      "[1, 2, 3]\n",
      "['hello', 3.14, 'c']\n"
     ]
    }
   ],
   "source": [
    "# Nested Tuple\n",
    "\n",
    "lst = [[1,2,3],[4,5,6],[7,8,9], ['hello', 3.14, 'c']]\n",
    "print(lst[0])\n",
    "\n",
    "print(lst[3][0:3])"
   ]
  },
  {
   "cell_type": "code",
   "execution_count": 43,
   "id": "cbb1302d",
   "metadata": {},
   "outputs": [
    {
     "name": "stdout",
     "output_type": "stream",
     "text": [
      "(1, 2, 3)\n",
      "('hello', 3.14, 'c')\n"
     ]
    }
   ],
   "source": [
    "mytup = ((1,2,3),(4,5,6),(7,8,9), ('hello', 3.14, 'c'), (True, False))\n",
    "print(mytup[0])\n",
    "\n",
    "print(mytup[3][0:3])"
   ]
  },
  {
   "cell_type": "code",
   "execution_count": 46,
   "id": "e7662290",
   "metadata": {},
   "outputs": [
    {
     "name": "stdout",
     "output_type": "stream",
     "text": [
      "1, 2, 3, \n",
      "4, 5, 6, \n",
      "7, 8, 9, \n",
      "hello, 3.14, c, \n",
      "True, False, \n"
     ]
    }
   ],
   "source": [
    "# iterating over nested tuple\n",
    "\n",
    "for sub_tuple in mytup:\n",
    "    for item in sub_tuple:\n",
    "        print(item, end=\", \")\n",
    "    print()"
   ]
  },
  {
   "cell_type": "code",
   "execution_count": null,
   "id": "11ca8b6a",
   "metadata": {},
   "outputs": [],
   "source": []
  }
 ],
 "metadata": {
  "kernelspec": {
   "display_name": "dsa",
   "language": "python",
   "name": "python3"
  },
  "language_info": {
   "codemirror_mode": {
    "name": "ipython",
    "version": 3
   },
   "file_extension": ".py",
   "mimetype": "text/x-python",
   "name": "python",
   "nbconvert_exporter": "python",
   "pygments_lexer": "ipython3",
   "version": "3.12.9"
  }
 },
 "nbformat": 4,
 "nbformat_minor": 5
}
