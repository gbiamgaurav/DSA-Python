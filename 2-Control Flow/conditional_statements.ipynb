{
 "cells": [
  {
   "cell_type": "markdown",
   "id": "686d9621",
   "metadata": {},
   "source": [
    "### Conditional Statements"
   ]
  },
  {
   "cell_type": "code",
   "execution_count": 1,
   "id": "2ecb2cdb",
   "metadata": {},
   "outputs": [
    {
     "name": "stdout",
     "output_type": "stream",
     "text": [
      "You are allowed to Vote\n"
     ]
    }
   ],
   "source": [
    "# if statement\n",
    "\n",
    "age = 20\n",
    "\n",
    "if age >=18:\n",
    "    print(\"You are allowed to Vote\")"
   ]
  },
  {
   "cell_type": "code",
   "execution_count": 3,
   "id": "09efeb02",
   "metadata": {},
   "outputs": [
    {
     "name": "stdout",
     "output_type": "stream",
     "text": [
      "You are a minor\n"
     ]
    }
   ],
   "source": [
    "# else statement \n",
    "\n",
    "age = 16 \n",
    "\n",
    "if age >= 18:\n",
    "    print(\"You are allowed to Vote\")\n",
    "else:\n",
    "    print(\"You are a minor\")"
   ]
  },
  {
   "cell_type": "code",
   "execution_count": 4,
   "metadata": {},
   "outputs": [
    {
     "name": "stdout",
     "output_type": "stream",
     "text": [
      "You are an adult\n"
     ]
    }
   ],
   "source": [
    "# elif statement\n",
    "\n",
    "age = 20 \n",
    "\n",
    "if age < 13:\n",
    "    print(\"You are a child\")\n",
    "elif age < 18:\n",
    "    print(\"You are a teenager\")\n",
    "else:\n",
    "    print(\"You are an adult\")"
   ]
  },
  {
   "cell_type": "code",
   "execution_count": 8,
   "id": "ef12bd7a",
   "metadata": {},
   "outputs": [
    {
     "name": "stdout",
     "output_type": "stream",
     "text": [
      "The number is negative\n"
     ]
    }
   ],
   "source": [
    "# Nested Conditional Statement\n",
    "\n",
    "number = int(input(\"Enter the number: \"))\n",
    "\n",
    "if number >= 0:\n",
    "    print(\"The number is positive\")\n",
    "    if number % 2 == 0:\n",
    "        print(\"The number is even\")\n",
    "    else:\n",
    "        print(\"The number is odd\")\n",
    "else:\n",
    "    print(\"The number is negative\")"
   ]
  },
  {
   "cell_type": "code",
   "execution_count": null,
   "metadata": {},
   "outputs": [
    {
     "name": "stdout",
     "output_type": "stream",
     "text": [
      "Its a Leap year\n"
     ]
    }
   ],
   "source": [
    "# Determine leap year \n",
    "\n",
    "year = int(input(\"Enter the year: \"))\n",
    "\n",
    "if year % 4 == 0:\n",
    "    print(\"Its a Leap year\")\n",
    "    if year % 100 == 0 and year % 400 == 0:\n",
    "        print(\"Its a Leap year\")\n",
    "else:\n",
    "    print(\"Its not a Leap year\")"
   ]
  },
  {
   "cell_type": "code",
   "execution_count": 19,
   "metadata": {},
   "outputs": [
    {
     "name": "stdout",
     "output_type": "stream",
     "text": [
      "Welcome to the Calculator\n",
      "Multiplication:  15.0\n"
     ]
    }
   ],
   "source": [
    "# Calculator\n",
    "\n",
    "print(\"Welcome to the Calculator\")\n",
    "operation = input(['Add', 'Sub', 'Multiply', 'Divide'])\n",
    "operation = operation.lower()\n",
    "num1 = float(input(\"Enter num1: \"))\n",
    "num2 = float(input(\"Enter num2: \"))\n",
    "\n",
    "if operation == 'add':\n",
    "    print('Addition: ', num1 + num2)\n",
    "elif operation == 'sub':\n",
    "    print(\"Substraction: \", num1 - num2)\n",
    "elif operation == 'multiply':\n",
    "    print('Multiplication: ', num1 * num2)\n",
    "else:\n",
    "    print(\"Divide: \", num1/num2)"
   ]
  },
  {
   "cell_type": "code",
   "execution_count": null,
   "id": "adf85ec3",
   "metadata": {},
   "outputs": [],
   "source": []
  }
 ],
 "metadata": {
  "kernelspec": {
   "display_name": "dsa",
   "language": "python",
   "name": "python3"
  },
  "language_info": {
   "codemirror_mode": {
    "name": "ipython",
    "version": 3
   },
   "file_extension": ".py",
   "mimetype": "text/x-python",
   "name": "python",
   "nbconvert_exporter": "python",
   "pygments_lexer": "ipython3",
   "version": "3.12.9"
  }
 },
 "nbformat": 4,
 "nbformat_minor": 5
}
