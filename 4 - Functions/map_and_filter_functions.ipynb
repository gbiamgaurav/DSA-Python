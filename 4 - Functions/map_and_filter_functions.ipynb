{
 "cells": [
  {
   "cell_type": "markdown",
   "id": "b5ce0a47",
   "metadata": {},
   "source": [
    "### Map and Filter Functions in Python"
   ]
  },
  {
   "cell_type": "code",
   "execution_count": 1,
   "id": "34a140ae",
   "metadata": {},
   "outputs": [
    {
     "data": {
      "text/plain": [
       "16"
      ]
     },
     "execution_count": 1,
     "metadata": {},
     "output_type": "execute_result"
    }
   ],
   "source": [
    "def square(num):\n",
    "    return num**2 \n",
    "\n",
    "square(4)"
   ]
  },
  {
   "cell_type": "code",
   "execution_count": 2,
   "id": "1d0fdbaf",
   "metadata": {},
   "outputs": [],
   "source": [
    "nums = [1, 2, 3, 4, 5, 6, 7, 8]"
   ]
  },
  {
   "cell_type": "markdown",
   "id": "420e7829",
   "metadata": {},
   "source": [
    "#### Map Function - map()"
   ]
  },
  {
   "cell_type": "code",
   "execution_count": 3,
   "id": "9aa18ef6",
   "metadata": {},
   "outputs": [
    {
     "data": {
      "text/plain": [
       "[1, 4, 9, 16, 25, 36, 49, 64]"
      ]
     },
     "execution_count": 3,
     "metadata": {},
     "output_type": "execute_result"
    }
   ],
   "source": [
    "sq_list = list(map(lambda x: x**2, nums))\n",
    "sq_list"
   ]
  },
  {
   "cell_type": "code",
   "execution_count": 4,
   "id": "a91f6bc3",
   "metadata": {},
   "outputs": [
    {
     "data": {
      "text/plain": [
       "[1, 4, 9, 16, 25, 36, 49, 64]"
      ]
     },
     "execution_count": 4,
     "metadata": {},
     "output_type": "execute_result"
    }
   ],
   "source": [
    "sq_lst2 = list(map(square, nums))\n",
    "sq_lst2"
   ]
  },
  {
   "cell_type": "code",
   "execution_count": 5,
   "id": "05a4ed0e",
   "metadata": {},
   "outputs": [
    {
     "data": {
      "text/plain": [
       "[5, 7, 9]"
      ]
     },
     "execution_count": 5,
     "metadata": {},
     "output_type": "execute_result"
    }
   ],
   "source": [
    "# Map multiple iterables\n",
    "\n",
    "num1 = [1, 2, 3]\n",
    "num2 = [4, 5, 6]\n",
    "\n",
    "add = list(map(lambda x, y: x + y, num1, num2))\n",
    "add"
   ]
  },
  {
   "cell_type": "code",
   "execution_count": 6,
   "id": "b64b009f",
   "metadata": {},
   "outputs": [
    {
     "data": {
      "text/plain": [
       "[1, 2, 3, 4]"
      ]
     },
     "execution_count": 6,
     "metadata": {},
     "output_type": "execute_result"
    }
   ],
   "source": [
    "# map() to convert list of strings to int\n",
    "\n",
    "str_nums = ['1', '2', '3', '4']\n",
    "int_nums = list(map(int, str_nums))\n",
    "int_nums"
   ]
  },
  {
   "cell_type": "code",
   "execution_count": 7,
   "id": "0969d825",
   "metadata": {},
   "outputs": [
    {
     "data": {
      "text/plain": [
       "['APPLE', 'BANANA', 'CHERRY']"
      ]
     },
     "execution_count": 7,
     "metadata": {},
     "output_type": "execute_result"
    }
   ],
   "source": [
    "words = ['apple', 'banana', 'cherry']\n",
    "\n",
    "up_words = list(map(lambda x: x.upper(), words))\n",
    "up_words"
   ]
  },
  {
   "cell_type": "code",
   "execution_count": 12,
   "id": "33500721",
   "metadata": {},
   "outputs": [
    {
     "data": {
      "text/plain": [
       "['krish', 'jack']"
      ]
     },
     "execution_count": 12,
     "metadata": {},
     "output_type": "execute_result"
    }
   ],
   "source": [
    "people = [{'name': 'krish', 'age': 32},\n",
    "{'name': 'jack', 'age': 33}]\n",
    "\n",
    "name_lst = list(map(lambda x: x['name'], people))\n",
    "name_lst"
   ]
  },
  {
   "cell_type": "code",
   "execution_count": 13,
   "id": "5ff5f34b",
   "metadata": {},
   "outputs": [
    {
     "data": {
      "text/plain": [
       "[32, 33]"
      ]
     },
     "execution_count": 13,
     "metadata": {},
     "output_type": "execute_result"
    }
   ],
   "source": [
    "age_lst = list(map(lambda x: x['age'], people))\n",
    "age_lst"
   ]
  },
  {
   "cell_type": "code",
   "execution_count": 16,
   "id": "be060b3b",
   "metadata": {},
   "outputs": [
    {
     "data": {
      "text/plain": [
       "[('krish', 32), ('jack', 33)]"
      ]
     },
     "execution_count": 16,
     "metadata": {},
     "output_type": "execute_result"
    }
   ],
   "source": [
    "lst3 = list(map(lambda x: (x['name'], x['age']), people))\n",
    "lst3"
   ]
  },
  {
   "cell_type": "markdown",
   "id": "f167779b",
   "metadata": {},
   "source": [
    "#### Filter function - filter()"
   ]
  },
  {
   "cell_type": "code",
   "execution_count": 17,
   "id": "f04d098c",
   "metadata": {},
   "outputs": [],
   "source": [
    "def even(num):\n",
    "    if num % 2 == 0:\n",
    "        return True"
   ]
  },
  {
   "cell_type": "code",
   "execution_count": 18,
   "id": "e5e22ed0",
   "metadata": {},
   "outputs": [
    {
     "data": {
      "text/plain": [
       "True"
      ]
     },
     "execution_count": 18,
     "metadata": {},
     "output_type": "execute_result"
    }
   ],
   "source": [
    "even(24)"
   ]
  },
  {
   "cell_type": "code",
   "execution_count": 19,
   "id": "cf0f1376",
   "metadata": {},
   "outputs": [],
   "source": [
    "import random"
   ]
  },
  {
   "cell_type": "code",
   "execution_count": 21,
   "id": "cb39b0fb",
   "metadata": {},
   "outputs": [
    {
     "data": {
      "text/plain": [
       "[47, 55, 38, 73, 16, 32, 12, 35, 34, 50, 18, 71, 35, 36, 22]"
      ]
     },
     "execution_count": 21,
     "metadata": {},
     "output_type": "execute_result"
    }
   ],
   "source": [
    "lst = [random.randint(0, 75) for _ in range(15)]\n",
    "lst"
   ]
  },
  {
   "cell_type": "code",
   "execution_count": 22,
   "id": "0844471f",
   "metadata": {},
   "outputs": [
    {
     "data": {
      "text/plain": [
       "[38, 16, 32, 12, 34, 50, 18, 36, 22]"
      ]
     },
     "execution_count": 22,
     "metadata": {},
     "output_type": "execute_result"
    }
   ],
   "source": [
    "even_lst = list(filter(lambda x: x % 2 == 0, lst))\n",
    "even_lst"
   ]
  },
  {
   "cell_type": "code",
   "execution_count": 23,
   "id": "1371450c",
   "metadata": {},
   "outputs": [
    {
     "data": {
      "text/plain": [
       "['apple']"
      ]
     },
     "execution_count": 23,
     "metadata": {},
     "output_type": "execute_result"
    }
   ],
   "source": [
    "fruits = [\"apple\", \"banana\", \"cherry\", \"date\", \"grape\"]\n",
    "\n",
    "a_fruits = list(filter(lambda x: x.startswith('a'), fruits))\n",
    "a_fruits"
   ]
  },
  {
   "cell_type": "code",
   "execution_count": 25,
   "id": "907bd2a9",
   "metadata": {},
   "outputs": [
    {
     "data": {
      "text/plain": [
       "[38, 16, 32, 12, 34, 50, 18, 36, 22]"
      ]
     },
     "execution_count": 25,
     "metadata": {},
     "output_type": "execute_result"
    }
   ],
   "source": [
    "even_lst2 = list(filter(even, lst))\n",
    "even_lst2"
   ]
  },
  {
   "cell_type": "code",
   "execution_count": 28,
   "id": "c09dab35",
   "metadata": {},
   "outputs": [
    {
     "data": {
      "text/plain": [
       "[38, 32, 34, 50, 36]"
      ]
     },
     "execution_count": 28,
     "metadata": {},
     "output_type": "execute_result"
    }
   ],
   "source": [
    "# Filter with multiple conditions\n",
    "\n",
    "even_and_greater_than_30 = list(filter(lambda x: x % 2 == 0 and x >30, lst))\n",
    "even_and_greater_than_30"
   ]
  },
  {
   "cell_type": "code",
   "execution_count": 31,
   "id": "a30155e6",
   "metadata": {},
   "outputs": [
    {
     "data": {
      "text/plain": [
       "['apple', 'cherry', 'grape']"
      ]
     },
     "execution_count": 31,
     "metadata": {},
     "output_type": "execute_result"
    }
   ],
   "source": [
    "starts_with_or_contains_r = list(filter(lambda x: x.startswith('a') or 'r' in x, fruits))\n",
    "starts_with_or_contains_r"
   ]
  },
  {
   "cell_type": "code",
   "execution_count": 36,
   "id": "9219dbc1",
   "metadata": {},
   "outputs": [],
   "source": [
    "people_dict = {\n",
    "    'Krish': 32,\n",
    "    'Jack': 20,\n",
    "    'Alice': 21,\n",
    "    'Bob': 45, \n",
    "    'Gaurav': 35\n",
    "}"
   ]
  },
  {
   "cell_type": "code",
   "execution_count": 38,
   "id": "f44a1158",
   "metadata": {},
   "outputs": [
    {
     "data": {
      "text/plain": [
       "['Krish', 'Bob', 'Gaurav']"
      ]
     },
     "execution_count": 38,
     "metadata": {},
     "output_type": "execute_result"
    }
   ],
   "source": [
    "lst1 = list(filter(lambda x: people_dict[x] > 25, people_dict))\n",
    "\n",
    "lst1"
   ]
  },
  {
   "cell_type": "code",
   "execution_count": 43,
   "id": "3ba29e67",
   "metadata": {},
   "outputs": [],
   "source": [
    "people = [{'name': 'krish', 'age': 32},\n",
    "{'name': 'jack', 'age': 33},\n",
    "{'name': 'john', 'age': 15}]"
   ]
  },
  {
   "cell_type": "code",
   "execution_count": 44,
   "id": "cd658b2b",
   "metadata": {},
   "outputs": [
    {
     "data": {
      "text/plain": [
       "[{'name': 'krish', 'age': 32}, {'name': 'jack', 'age': 33}]"
      ]
     },
     "execution_count": 44,
     "metadata": {},
     "output_type": "execute_result"
    }
   ],
   "source": [
    "lst2 = list(filter(lambda x: x['age'] > 25, people))\n",
    "lst2"
   ]
  },
  {
   "cell_type": "code",
   "execution_count": null,
   "id": "ea339926",
   "metadata": {},
   "outputs": [],
   "source": []
  }
 ],
 "metadata": {
  "kernelspec": {
   "display_name": "dsa",
   "language": "python",
   "name": "python3"
  },
  "language_info": {
   "codemirror_mode": {
    "name": "ipython",
    "version": 3
   },
   "file_extension": ".py",
   "mimetype": "text/x-python",
   "name": "python",
   "nbconvert_exporter": "python",
   "pygments_lexer": "ipython3",
   "version": "3.12.9"
  }
 },
 "nbformat": 4,
 "nbformat_minor": 5
}
