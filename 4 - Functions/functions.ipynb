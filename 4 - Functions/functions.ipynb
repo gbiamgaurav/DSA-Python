{
 "cells": [
  {
   "cell_type": "markdown",
   "id": "c70da0ed",
   "metadata": {},
   "source": [
    "### Functions in Python"
   ]
  },
  {
   "cell_type": "code",
   "execution_count": 1,
   "id": "b9b06f4e",
   "metadata": {},
   "outputs": [],
   "source": [
    "def func_name(parameters):\n",
    "    \"\"\"Docstring\"\"\"\n",
    "    # Function Body\n",
    "    return expression"
   ]
  },
  {
   "cell_type": "code",
   "execution_count": 2,
   "id": "715b0b93",
   "metadata": {},
   "outputs": [
    {
     "name": "stdout",
     "output_type": "stream",
     "text": [
      "Num is even\n"
     ]
    }
   ],
   "source": [
    "num = 24 \n",
    "if num % 2 == 0:\n",
    "    print(\"Num is even\")\n",
    "else:\n",
    "    print(\"Num is odd\")"
   ]
  },
  {
   "cell_type": "code",
   "execution_count": 3,
   "id": "5936b337",
   "metadata": {},
   "outputs": [],
   "source": [
    "def even_or_odd(num):\n",
    "    \"\"\"This function checks nums even or odd\"\"\"\n",
    "    if num % 2 == 0:\n",
    "        print(\"The num is even\")\n",
    "    else:\n",
    "        print(\"The num is odd\")"
   ]
  },
  {
   "cell_type": "code",
   "execution_count": 4,
   "id": "fed6ef27",
   "metadata": {},
   "outputs": [
    {
     "name": "stdout",
     "output_type": "stream",
     "text": [
      "The num is even\n"
     ]
    }
   ],
   "source": [
    "even_or_odd(24)"
   ]
  },
  {
   "cell_type": "code",
   "execution_count": 5,
   "metadata": {},
   "outputs": [
    {
     "name": "stdout",
     "output_type": "stream",
     "text": [
      "The num is odd\n"
     ]
    }
   ],
   "source": [
    "even_or_odd(13)"
   ]
  },
  {
   "cell_type": "code",
   "execution_count": 6,
   "id": "9308af62",
   "metadata": {},
   "outputs": [],
   "source": [
    "# functions with multiple parameters\n",
    "\n",
    "def add(a, b):\n",
    "    return a + b"
   ]
  },
  {
   "cell_type": "code",
   "execution_count": 7,
   "id": "7e07294c",
   "metadata": {},
   "outputs": [
    {
     "data": {
      "text/plain": [
       "5"
      ]
     },
     "execution_count": 7,
     "metadata": {},
     "output_type": "execute_result"
    }
   ],
   "source": [
    "add(2, 3)"
   ]
  },
  {
   "cell_type": "markdown",
   "id": "4b6bdc9f",
   "metadata": {},
   "source": [
    "#### Positional & KeyWord Arguments"
   ]
  },
  {
   "cell_type": "code",
   "execution_count": 9,
   "id": "1668272f",
   "metadata": {},
   "outputs": [
    {
     "name": "stdout",
     "output_type": "stream",
     "text": [
      "Hello Krish!\n"
     ]
    }
   ],
   "source": [
    "## Default paramters\n",
    "\n",
    "def greet(name):\n",
    "    print(f\"Hello {name}!\")\n",
    "\n",
    "\n",
    "greet(\"Krish\")"
   ]
  },
  {
   "cell_type": "code",
   "execution_count": 12,
   "metadata": {},
   "outputs": [
    {
     "name": "stdout",
     "output_type": "stream",
     "text": [
      "Hello Guest!\n"
     ]
    }
   ],
   "source": [
    "def greet(name=\"Guest\"):\n",
    "    print(f\"Hello {name}!\")\n",
    "\n",
    "\n",
    "greet()"
   ]
  },
  {
   "cell_type": "code",
   "execution_count": 16,
   "id": "5c4fa404",
   "metadata": {},
   "outputs": [],
   "source": [
    "# Positional Arguments - multiple parameters, arguments\n",
    "def print_numbers(*args):\n",
    "    for numbers in args:\n",
    "        print(numbers)"
   ]
  },
  {
   "cell_type": "code",
   "execution_count": 17,
   "metadata": {},
   "outputs": [
    {
     "name": "stdout",
     "output_type": "stream",
     "text": [
      "1\n",
      "2\n",
      "3\n",
      "4\n",
      "5\n",
      "6\n",
      "krish\n"
     ]
    }
   ],
   "source": [
    "print_numbers(1, 2, 3, 4, 5, 6, 'krish')"
   ]
  },
  {
   "cell_type": "code",
   "execution_count": 18,
   "metadata": {},
   "outputs": [],
   "source": [
    "# Keyword arguments\n",
    "\n",
    "def print_details(**kwargs):\n",
    "    for key, value in kwargs.items():\n",
    "        print(f\"{key}: {value}\")"
   ]
  },
  {
   "cell_type": "code",
   "execution_count": 20,
   "id": "56f8c9b1",
   "metadata": {},
   "outputs": [
    {
     "name": "stdout",
     "output_type": "stream",
     "text": [
      "age: 36\n",
      "name: gaurav\n"
     ]
    }
   ],
   "source": [
    "print_details(age=36, name=\"gaurav\")"
   ]
  },
  {
   "cell_type": "code",
   "execution_count": 29,
   "id": "621cb0c5",
   "metadata": {},
   "outputs": [],
   "source": [
    "def print_details(*args, **kwargs):\n",
    "    for val in args:\n",
    "        print(f\"Positional Argument: {val}\")\n",
    "\n",
    "    for key, value in kwargs.items():\n",
    "        print(f\"KeyWord Argument: {key}: {value}\")"
   ]
  },
  {
   "cell_type": "code",
   "execution_count": 30,
   "id": "3207e524",
   "metadata": {},
   "outputs": [
    {
     "name": "stdout",
     "output_type": "stream",
     "text": [
      "Positional Argument: 1\n",
      "Positional Argument: 2\n",
      "Positional Argument: 3\n",
      "Positional Argument: 4\n",
      "Positional Argument: 5\n",
      "Positional Argument: 6\n",
      "Positional Argument: krish\n",
      "KeyWord Argument: age: 36\n",
      "KeyWord Argument: name: gaurav\n"
     ]
    }
   ],
   "source": [
    "print_details(1, 2, 3, 4, 5, 6, 'krish', age=36, name=\"gaurav\")"
   ]
  },
  {
   "cell_type": "code",
   "execution_count": null,
   "id": "4f7a4f0d",
   "metadata": {},
   "outputs": [],
   "source": []
  }
 ],
 "metadata": {
  "kernelspec": {
   "display_name": "dsa",
   "language": "python",
   "name": "python3"
  },
  "language_info": {
   "codemirror_mode": {
    "name": "ipython",
    "version": 3
   },
   "file_extension": ".py",
   "mimetype": "text/x-python",
   "name": "python",
   "nbconvert_exporter": "python",
   "pygments_lexer": "ipython3",
   "version": "3.12.9"
  }
 },
 "nbformat": 4,
 "nbformat_minor": 5
}
